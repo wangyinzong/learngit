{
 "cells": [
  {
   "cell_type": "code",
   "execution_count": 1,
   "metadata": {},
   "outputs": [],
   "source": [
    "import cv2"
   ]
  },
  {
   "cell_type": "code",
   "execution_count": 6,
   "metadata": {},
   "outputs": [
    {
     "name": "stdout",
     "output_type": "stream",
     "text": [
      "[[ 340  916  382  382]\n",
      " [ 751 1107   50   50]\n",
      " [ 508  839  208  208]]\n"
     ]
    }
   ],
   "source": [
    "image = cv2.imread('./bb.jpeg')\n",
    "\n",
    "face_detector = cv2.CascadeClassifier('./haarcascade_frontalface_default.xml')\n",
    "\n",
    "gray = cv2.cvtColor(image,code = cv2.COLOR_BGR2GRAY)\n",
    "#人脸区域的检测\n",
    "face_zone = face_detector.detectMultiScale(gray)\n",
    "\n",
    "print(face_zone)\n",
    "cv2.imshow('face',image)\n",
    "cv2.waitKey(0)\n",
    "cv2.destroyAllWindows()"
   ]
  },
  {
   "cell_type": "code",
   "execution_count": null,
   "metadata": {},
   "outputs": [],
   "source": []
  }
 ],
 "metadata": {
  "kernelspec": {
   "display_name": "Python 3",
   "language": "python",
   "name": "python3"
  },
  "language_info": {
   "codemirror_mode": {
    "name": "ipython",
    "version": 3
   },
   "file_extension": ".py",
   "mimetype": "text/x-python",
   "name": "python",
   "nbconvert_exporter": "python",
   "pygments_lexer": "ipython3",
   "version": "3.7.1"
  }
 },
 "nbformat": 4,
 "nbformat_minor": 2
}
